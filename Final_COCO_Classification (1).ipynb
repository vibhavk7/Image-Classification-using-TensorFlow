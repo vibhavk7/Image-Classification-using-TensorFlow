{
  "cells": [
    {
      "cell_type": "code",
      "execution_count": null,
      "metadata": {
        "id": "JGYrNjo-2KsW"
      },
      "outputs": [],
      "source": [
        "!pip install CocoDataset==0.1.2"
      ]
    },
    {
      "cell_type": "markdown",
      "source": [
        "This will install Coco Data set"
      ],
      "metadata": {
        "id": "MAgEOD_nQsy-"
      }
    },
    {
      "cell_type": "code",
      "execution_count": null,
      "metadata": {
        "id": "9pkEYbBJ2UCu"
      },
      "outputs": [],
      "source": [
        "!wget http://images.cocodataset.org/annotations/annotations_trainval2014.zip\n",
        "!unzip /content/drive/MyDrive/COCO/annotations_trainval2014.zip"
      ]
    },
    {
      "cell_type": "markdown",
      "source": [
        "Unzipping the Files"
      ],
      "metadata": {
        "id": "9RPfFo9tRxFH"
      }
    },
    {
      "cell_type": "code",
      "execution_count": null,
      "metadata": {
        "id": "3QhWgBGl4Pe-"
      },
      "outputs": [],
      "source": [
        "from coco_dataset import coco_dataset_download as cocod\n",
        "class_name='elephant'  #class name example \n",
        "images_count=1000       #count of images  \n",
        "annotations_path='/content/annotations/instances_train2014.json' #path of coco dataset annotations \n",
        "#call download function \n",
        "cocod.coco_dataset_download(class_name,images_count,annotations_path)"
      ]
    },
    {
      "cell_type": "markdown",
      "source": [
        "Storing 1000 Images of Elephant Class"
      ],
      "metadata": {
        "id": "dEleabXBSR2w"
      }
    },
    {
      "cell_type": "code",
      "source": [
        "from coco_dataset import coco_dataset_download as cocod\n",
        "class_name='airplane'  #class name example \n",
        "images_count=1000       #count of images  \n",
        "annotations_path='/content/annotations/instances_train2014.json' #path of coco dataset annotations \n",
        "#call download function \n",
        "cocod.coco_dataset_download(class_name,images_count,annotations_path)"
      ],
      "metadata": {
        "id": "-szg-LcCSkm3"
      },
      "execution_count": null,
      "outputs": []
    },
    {
      "cell_type": "markdown",
      "source": [
        "Storing 1000 Images of Airplane Class"
      ],
      "metadata": {
        "id": "Sgx9sPL7SqtJ"
      }
    },
    {
      "cell_type": "code",
      "source": [
        "from coco_dataset import coco_dataset_download as cocod\n",
        "class_name='pizza'  #class name example \n",
        "images_count=1000       #count of images  \n",
        "annotations_path='/content/annotations/instances_train2014.json' #path of coco dataset annotations \n",
        "#call download function \n",
        "cocod.coco_dataset_download(class_name,images_count,annotations_path)"
      ],
      "metadata": {
        "id": "bSOjVyzfSmhi"
      },
      "execution_count": null,
      "outputs": []
    },
    {
      "cell_type": "markdown",
      "source": [
        "Storing 1000 Images of Pizza Class"
      ],
      "metadata": {
        "id": "cbjRLkD-S14E"
      }
    },
    {
      "cell_type": "code",
      "source": [
        "from google.colab import drive\n",
        "drive.mount('/content/drive')"
      ],
      "metadata": {
        "id": "xiin35GPTJau"
      },
      "execution_count": null,
      "outputs": []
    },
    {
      "cell_type": "markdown",
      "source": [
        "If you have uploaded above data to your drive then you can just type this command to just import it, instead of unzipping it and downloading it everytime"
      ],
      "metadata": {
        "id": "wmlO3UELTLMR"
      }
    },
    {
      "cell_type": "code",
      "execution_count": null,
      "metadata": {
        "id": "nNTNuD3v2y90"
      },
      "outputs": [],
      "source": [
        "import os"
      ]
    },
    {
      "cell_type": "code",
      "execution_count": null,
      "metadata": {
        "id": "PRTQj26n22Rh"
      },
      "outputs": [],
      "source": [
        "elephant_names = os.listdir('/content/drive/MyDrive/COCO/elephant')\n",
        "airplane_names = os.listdir('/content/drive/MyDrive/COCO/airplane')\n",
        "pizza_names = os.listdir('/content/drive/MyDrive/COCO/pizza')"
      ]
    },
    {
      "cell_type": "markdown",
      "source": [
        "Storing the content of 3 classes into variables. You can add your respective path"
      ],
      "metadata": {
        "id": "jmK6Z5X9T4C-"
      }
    },
    {
      "cell_type": "code",
      "execution_count": null,
      "metadata": {
        "id": "h99Wwcuh3N0b"
      },
      "outputs": [],
      "source": [
        "e_path_list = []\n",
        "elephant_path = '/content/drive/MyDrive/COCO/elephant/'\n",
        "for name in elephant_names:\n",
        "  whole_path = elephant_path + name\n",
        "  e_path_list.append(whole_path)"
      ]
    },
    {
      "cell_type": "code",
      "execution_count": null,
      "metadata": {
        "id": "34lPXbib3wxj"
      },
      "outputs": [],
      "source": [
        "a_path_list = []\n",
        "airplane_path = '/content/drive/MyDrive/COCO/airplane/'\n",
        "for name in airplane_names:\n",
        "  whole_path = airplane_path + name\n",
        "  a_path_list.append(whole_path)"
      ]
    },
    {
      "cell_type": "code",
      "execution_count": null,
      "metadata": {
        "id": "PAu4LyCt3tWS"
      },
      "outputs": [],
      "source": [
        "p_path_list = []\n",
        "pizza_path = '/content/drive/MyDrive/COCO/pizza/'\n",
        "for name in pizza_names:\n",
        "  whole_path = pizza_path + name\n",
        "  p_path_list.append(whole_path)"
      ]
    },
    {
      "cell_type": "markdown",
      "source": [
        "Make a list of each class. Attach the name inside the variables to the path respectively"
      ],
      "metadata": {
        "id": "PXFJdA50UV38"
      }
    },
    {
      "cell_type": "code",
      "execution_count": null,
      "metadata": {
        "id": "GbTCKgIA39tu"
      },
      "outputs": [],
      "source": [
        "import cv2\n",
        "features_x = []\n",
        "for path in e_path_list:\n",
        "  img = cv2.imread(path)\n",
        "  resized_img = cv2.resize(img, (128, 128))\n",
        "  gray_image = cv2.cvtColor(resized_img, cv2.COLOR_BGR2GRAY)\n",
        "  features_x.append(gray_image)"
      ]
    },
    {
      "cell_type": "code",
      "execution_count": null,
      "metadata": {
        "colab": {
          "base_uri": "https://localhost:8080/"
        },
        "id": "gOHCD3cx5kMJ",
        "outputId": "da16e755-afc3-44d2-e91c-021e9475c2fd"
      },
      "outputs": [
        {
          "output_type": "execute_result",
          "data": {
            "text/plain": [
              "1001"
            ]
          },
          "metadata": {},
          "execution_count": 9
        }
      ],
      "source": [
        "len(features_x)"
      ]
    },
    {
      "cell_type": "code",
      "execution_count": null,
      "metadata": {
        "id": "W0J8uQto5jp9"
      },
      "outputs": [],
      "source": [
        "for path in a_path_list:\n",
        "  img = cv2.imread(path)\n",
        "  resized_img = cv2.resize(img, (128, 128))\n",
        "  gray_image = cv2.cvtColor(resized_img, cv2.COLOR_BGR2GRAY)\n",
        "  features_x.append(gray_image)"
      ]
    },
    {
      "cell_type": "code",
      "execution_count": null,
      "metadata": {
        "colab": {
          "base_uri": "https://localhost:8080/"
        },
        "id": "drpWGne565O_",
        "outputId": "527aa70a-5d5f-4aa1-f7e5-bf0ee003d02e"
      },
      "outputs": [
        {
          "output_type": "execute_result",
          "data": {
            "text/plain": [
              "2002"
            ]
          },
          "metadata": {},
          "execution_count": 11
        }
      ],
      "source": [
        "len(features_x)"
      ]
    },
    {
      "cell_type": "code",
      "execution_count": null,
      "metadata": {
        "id": "jlQlySOd69ki"
      },
      "outputs": [],
      "source": [
        "for path in p_path_list:\n",
        "  img = cv2.imread(path)\n",
        "  resized_img = cv2.resize(img, (128, 128))\n",
        "  gray_image = cv2.cvtColor(resized_img, cv2.COLOR_BGR2GRAY)\n",
        "  features_x.append(gray_image)"
      ]
    },
    {
      "cell_type": "code",
      "execution_count": null,
      "metadata": {
        "colab": {
          "base_uri": "https://localhost:8080/"
        },
        "id": "QXfAEZHE8V2t",
        "outputId": "bce372ee-ed6d-4f2f-db5c-7d76b7da7944"
      },
      "outputs": [
        {
          "output_type": "execute_result",
          "data": {
            "text/plain": [
              "3003"
            ]
          },
          "metadata": {},
          "execution_count": 14
        }
      ],
      "source": [
        "len(features_x)"
      ]
    },
    {
      "cell_type": "markdown",
      "source": [
        "Make a list. Read the image data of the class using cv2 library, resize it accordingly, make the image Gray. Append it to the list (features_x)."
      ],
      "metadata": {
        "id": "SsUa3gWKU0Cj"
      }
    },
    {
      "cell_type": "code",
      "execution_count": null,
      "metadata": {
        "id": "jrsjiXs3-Dnk"
      },
      "outputs": [],
      "source": [
        "import numpy as np\n",
        "features_x = np.array(features_x)"
      ]
    },
    {
      "cell_type": "markdown",
      "source": [
        "Convert list into array."
      ],
      "metadata": {
        "id": "rtH-L5e4Vogv"
      }
    },
    {
      "cell_type": "code",
      "execution_count": null,
      "metadata": {
        "colab": {
          "base_uri": "https://localhost:8080/"
        },
        "id": "-bK1ULpx-KPR",
        "outputId": "2ef5de57-1c6c-4480-f1e1-e1b29304fb9c"
      },
      "outputs": [
        {
          "output_type": "execute_result",
          "data": {
            "text/plain": [
              "(3003, 128, 128)"
            ]
          },
          "metadata": {},
          "execution_count": 15
        }
      ],
      "source": [
        "features_x.shape"
      ]
    },
    {
      "cell_type": "code",
      "execution_count": null,
      "metadata": {
        "id": "q0GRFbow8Uyf"
      },
      "outputs": [],
      "source": [
        "\"\"\"import pandas as pd\n",
        "\n",
        "df = pd.DataFrame()\n",
        "df['elephant_names'] =elephant_names\n",
        "df['airplane_names'] = airplane_names\n",
        "df['pizza_names'] = pizza_names\n",
        "\n",
        "df\n",
        "\"\"\""
      ]
    },
    {
      "cell_type": "code",
      "execution_count": null,
      "metadata": {
        "id": "qP6aEO0Z8kOs"
      },
      "outputs": [],
      "source": [
        "\"\"\"\n",
        "for path in elephant_names:\n",
        "  df['elephant_names'] = df['elephant_names'].replace([path], 'x')\n",
        "for path in airplane_names:\n",
        "  df['airplane_names'] = df['airplane_names'].replace([path], 'y')\n",
        "for path in pizza_names:\n",
        "  df['pizza_names'] = df['pizza_names'].replace([path], 'z')\n",
        "\"\"\""
      ]
    },
    {
      "cell_type": "code",
      "execution_count": null,
      "metadata": {
        "id": "aj87mhSLg8PE"
      },
      "outputs": [],
      "source": [
        "#mix_names = []\n",
        "#mix_names.append(df['elephant_names'])\n",
        "#mix_names.append(df['airplane_names'])\n",
        "#mix_names.append(df['pizza_names'])"
      ]
    },
    {
      "cell_type": "markdown",
      "source": [
        "Just trying a different approach. Please Ignore."
      ],
      "metadata": {
        "id": "m43HWex7YAgB"
      }
    },
    {
      "cell_type": "code",
      "source": [
        "import pandas as pd\n",
        "df1 = pd.DataFrame()\n",
        "df1['mix_names'] = elephant_names+airplane_names+pizza_names\n",
        "df1"
      ],
      "metadata": {
        "id": "7gV6y4onyrY6",
        "colab": {
          "base_uri": "https://localhost:8080/",
          "height": 424
        },
        "outputId": "a4b9ed84-ca52-4f4b-f2be-3d21b7894342"
      },
      "execution_count": null,
      "outputs": [
        {
          "output_type": "execute_result",
          "data": {
            "text/plain": [
              "                            mix_names\n",
              "0     COCO_train2014_000000286724.jpg\n",
              "1     COCO_train2014_000000303111.jpg\n",
              "2     COCO_train2014_000000548875.jpg\n",
              "3     COCO_train2014_000000393228.jpg\n",
              "4     COCO_train2014_000000294925.jpg\n",
              "...                               ...\n",
              "2998  COCO_train2014_000000487061.jpg\n",
              "2999  COCO_train2014_000000028314.jpg\n",
              "3000  COCO_train2014_000000503456.jpg\n",
              "3001  COCO_train2014_000000503464.jpg\n",
              "3002  COCO_train2014_000000106497.jpg\n",
              "\n",
              "[3003 rows x 1 columns]"
            ],
            "text/html": [
              "\n",
              "  <div id=\"df-3b9822e9-34ac-48c5-b294-ad6fc6938267\">\n",
              "    <div class=\"colab-df-container\">\n",
              "      <div>\n",
              "<style scoped>\n",
              "    .dataframe tbody tr th:only-of-type {\n",
              "        vertical-align: middle;\n",
              "    }\n",
              "\n",
              "    .dataframe tbody tr th {\n",
              "        vertical-align: top;\n",
              "    }\n",
              "\n",
              "    .dataframe thead th {\n",
              "        text-align: right;\n",
              "    }\n",
              "</style>\n",
              "<table border=\"1\" class=\"dataframe\">\n",
              "  <thead>\n",
              "    <tr style=\"text-align: right;\">\n",
              "      <th></th>\n",
              "      <th>mix_names</th>\n",
              "    </tr>\n",
              "  </thead>\n",
              "  <tbody>\n",
              "    <tr>\n",
              "      <th>0</th>\n",
              "      <td>COCO_train2014_000000286724.jpg</td>\n",
              "    </tr>\n",
              "    <tr>\n",
              "      <th>1</th>\n",
              "      <td>COCO_train2014_000000303111.jpg</td>\n",
              "    </tr>\n",
              "    <tr>\n",
              "      <th>2</th>\n",
              "      <td>COCO_train2014_000000548875.jpg</td>\n",
              "    </tr>\n",
              "    <tr>\n",
              "      <th>3</th>\n",
              "      <td>COCO_train2014_000000393228.jpg</td>\n",
              "    </tr>\n",
              "    <tr>\n",
              "      <th>4</th>\n",
              "      <td>COCO_train2014_000000294925.jpg</td>\n",
              "    </tr>\n",
              "    <tr>\n",
              "      <th>...</th>\n",
              "      <td>...</td>\n",
              "    </tr>\n",
              "    <tr>\n",
              "      <th>2998</th>\n",
              "      <td>COCO_train2014_000000487061.jpg</td>\n",
              "    </tr>\n",
              "    <tr>\n",
              "      <th>2999</th>\n",
              "      <td>COCO_train2014_000000028314.jpg</td>\n",
              "    </tr>\n",
              "    <tr>\n",
              "      <th>3000</th>\n",
              "      <td>COCO_train2014_000000503456.jpg</td>\n",
              "    </tr>\n",
              "    <tr>\n",
              "      <th>3001</th>\n",
              "      <td>COCO_train2014_000000503464.jpg</td>\n",
              "    </tr>\n",
              "    <tr>\n",
              "      <th>3002</th>\n",
              "      <td>COCO_train2014_000000106497.jpg</td>\n",
              "    </tr>\n",
              "  </tbody>\n",
              "</table>\n",
              "<p>3003 rows × 1 columns</p>\n",
              "</div>\n",
              "      <button class=\"colab-df-convert\" onclick=\"convertToInteractive('df-3b9822e9-34ac-48c5-b294-ad6fc6938267')\"\n",
              "              title=\"Convert this dataframe to an interactive table.\"\n",
              "              style=\"display:none;\">\n",
              "        \n",
              "  <svg xmlns=\"http://www.w3.org/2000/svg\" height=\"24px\"viewBox=\"0 0 24 24\"\n",
              "       width=\"24px\">\n",
              "    <path d=\"M0 0h24v24H0V0z\" fill=\"none\"/>\n",
              "    <path d=\"M18.56 5.44l.94 2.06.94-2.06 2.06-.94-2.06-.94-.94-2.06-.94 2.06-2.06.94zm-11 1L8.5 8.5l.94-2.06 2.06-.94-2.06-.94L8.5 2.5l-.94 2.06-2.06.94zm10 10l.94 2.06.94-2.06 2.06-.94-2.06-.94-.94-2.06-.94 2.06-2.06.94z\"/><path d=\"M17.41 7.96l-1.37-1.37c-.4-.4-.92-.59-1.43-.59-.52 0-1.04.2-1.43.59L10.3 9.45l-7.72 7.72c-.78.78-.78 2.05 0 2.83L4 21.41c.39.39.9.59 1.41.59.51 0 1.02-.2 1.41-.59l7.78-7.78 2.81-2.81c.8-.78.8-2.07 0-2.86zM5.41 20L4 18.59l7.72-7.72 1.47 1.35L5.41 20z\"/>\n",
              "  </svg>\n",
              "      </button>\n",
              "      \n",
              "  <style>\n",
              "    .colab-df-container {\n",
              "      display:flex;\n",
              "      flex-wrap:wrap;\n",
              "      gap: 12px;\n",
              "    }\n",
              "\n",
              "    .colab-df-convert {\n",
              "      background-color: #E8F0FE;\n",
              "      border: none;\n",
              "      border-radius: 50%;\n",
              "      cursor: pointer;\n",
              "      display: none;\n",
              "      fill: #1967D2;\n",
              "      height: 32px;\n",
              "      padding: 0 0 0 0;\n",
              "      width: 32px;\n",
              "    }\n",
              "\n",
              "    .colab-df-convert:hover {\n",
              "      background-color: #E2EBFA;\n",
              "      box-shadow: 0px 1px 2px rgba(60, 64, 67, 0.3), 0px 1px 3px 1px rgba(60, 64, 67, 0.15);\n",
              "      fill: #174EA6;\n",
              "    }\n",
              "\n",
              "    [theme=dark] .colab-df-convert {\n",
              "      background-color: #3B4455;\n",
              "      fill: #D2E3FC;\n",
              "    }\n",
              "\n",
              "    [theme=dark] .colab-df-convert:hover {\n",
              "      background-color: #434B5C;\n",
              "      box-shadow: 0px 1px 3px 1px rgba(0, 0, 0, 0.15);\n",
              "      filter: drop-shadow(0px 1px 2px rgba(0, 0, 0, 0.3));\n",
              "      fill: #FFFFFF;\n",
              "    }\n",
              "  </style>\n",
              "\n",
              "      <script>\n",
              "        const buttonEl =\n",
              "          document.querySelector('#df-3b9822e9-34ac-48c5-b294-ad6fc6938267 button.colab-df-convert');\n",
              "        buttonEl.style.display =\n",
              "          google.colab.kernel.accessAllowed ? 'block' : 'none';\n",
              "\n",
              "        async function convertToInteractive(key) {\n",
              "          const element = document.querySelector('#df-3b9822e9-34ac-48c5-b294-ad6fc6938267');\n",
              "          const dataTable =\n",
              "            await google.colab.kernel.invokeFunction('convertToInteractive',\n",
              "                                                     [key], {});\n",
              "          if (!dataTable) return;\n",
              "\n",
              "          const docLinkHtml = 'Like what you see? Visit the ' +\n",
              "            '<a target=\"_blank\" href=https://colab.research.google.com/notebooks/data_table.ipynb>data table notebook</a>'\n",
              "            + ' to learn more about interactive tables.';\n",
              "          element.innerHTML = '';\n",
              "          dataTable['output_type'] = 'display_data';\n",
              "          await google.colab.output.renderOutput(dataTable, element);\n",
              "          const docLink = document.createElement('div');\n",
              "          docLink.innerHTML = docLinkHtml;\n",
              "          element.appendChild(docLink);\n",
              "        }\n",
              "      </script>\n",
              "    </div>\n",
              "  </div>\n",
              "  "
            ]
          },
          "metadata": {},
          "execution_count": 16
        }
      ]
    },
    {
      "cell_type": "markdown",
      "source": [
        "Putting all images into a dataframe."
      ],
      "metadata": {
        "id": "3OC7tEfRV1YI"
      }
    },
    {
      "cell_type": "code",
      "source": [
        "for path in elephant_names:\n",
        "  df1['mix_names'] = df1['mix_names'].replace([path], 'x')\n",
        "for path in airplane_names:\n",
        "  df1['mix_names'] = df1['mix_names'].replace([path], 'y')\n",
        "for path in pizza_names:\n",
        "  df1['mix_names'] = df1['mix_names'].replace([path], 'z')"
      ],
      "metadata": {
        "id": "pJ06v0rG3gvc"
      },
      "execution_count": null,
      "outputs": []
    },
    {
      "cell_type": "markdown",
      "source": [
        "Replacing image of each class with variables x, y, z respectively."
      ],
      "metadata": {
        "id": "xyXc4T53WBIJ"
      }
    },
    {
      "cell_type": "code",
      "execution_count": null,
      "metadata": {
        "id": "t3oGgUUVjGWZ"
      },
      "outputs": [],
      "source": [
        "#mix_names"
      ]
    },
    {
      "cell_type": "code",
      "execution_count": null,
      "metadata": {
        "id": "rztnvYBZ9Eme"
      },
      "outputs": [],
      "source": [
        "#labels_y = df.to_numpy()"
      ]
    },
    {
      "cell_type": "code",
      "execution_count": null,
      "metadata": {
        "id": "B_CnP0WYjOMN"
      },
      "outputs": [],
      "source": [
        "#import numpy as np\n",
        "#mix_arr = np.array(mix_names)"
      ]
    },
    {
      "cell_type": "code",
      "execution_count": null,
      "metadata": {
        "id": "GZW0qhetjhkQ"
      },
      "outputs": [],
      "source": [
        "#mix_arr"
      ]
    },
    {
      "cell_type": "code",
      "execution_count": null,
      "metadata": {
        "id": "M-bhN60Meny4"
      },
      "outputs": [],
      "source": [
        "#labels_y"
      ]
    },
    {
      "cell_type": "code",
      "execution_count": null,
      "metadata": {
        "id": "VWyM3SBOWNm_"
      },
      "outputs": [],
      "source": [
        "#labels_y.shape"
      ]
    },
    {
      "cell_type": "code",
      "execution_count": null,
      "metadata": {
        "id": "weVjP458etk6"
      },
      "outputs": [],
      "source": [
        "#labels_y = labels_y.reshape(3003,)"
      ]
    },
    {
      "cell_type": "markdown",
      "source": [
        "Please ignore the commented part."
      ],
      "metadata": {
        "id": "srVkjgpqYSwe"
      }
    },
    {
      "cell_type": "code",
      "execution_count": null,
      "metadata": {
        "id": "2yQ8PPEE4wk-",
        "colab": {
          "base_uri": "https://localhost:8080/"
        },
        "outputId": "c2466153-93c2-4984-aa20-3fbb4326560f"
      },
      "outputs": [
        {
          "output_type": "execute_result",
          "data": {
            "text/plain": [
              "array([0, 1, 2])"
            ]
          },
          "metadata": {},
          "execution_count": 18
        }
      ],
      "source": [
        "from sklearn.preprocessing import LabelEncoder\n",
        "lh = LabelEncoder()\n",
        "df1['mix_names']= lh.fit_transform(df1['mix_names'])\n",
        "df1['mix_names'].unique()"
      ]
    },
    {
      "cell_type": "markdown",
      "source": [
        "Label encoding the images of each class.\n",
        "Elephant = 0\n",
        "Airplane = 1\n",
        "Pizza = 2"
      ],
      "metadata": {
        "id": "kldVtJkZWPLT"
      }
    },
    {
      "cell_type": "code",
      "execution_count": null,
      "metadata": {
        "id": "U3BTTTkm9dRl"
      },
      "outputs": [],
      "source": [
        "#labels_y = labels_y.toarray()"
      ]
    },
    {
      "cell_type": "code",
      "execution_count": null,
      "metadata": {
        "id": "ckGXNoD8juVX"
      },
      "outputs": [],
      "source": [
        "#mix_arr = mix_arr.toarray()"
      ]
    },
    {
      "cell_type": "code",
      "execution_count": null,
      "metadata": {
        "id": "kEBJgQuLdmaf"
      },
      "outputs": [],
      "source": [
        "#mix_arr_re = mix_arr.reshape(-1,)"
      ]
    },
    {
      "cell_type": "code",
      "execution_count": null,
      "metadata": {
        "id": "a5-aFiQjkU__"
      },
      "outputs": [],
      "source": [
        "#mix_arr_re.shape"
      ]
    },
    {
      "cell_type": "markdown",
      "source": [
        "Please ignore the commented part."
      ],
      "metadata": {
        "id": "graInAo-YXIY"
      }
    },
    {
      "cell_type": "code",
      "execution_count": null,
      "metadata": {
        "id": "yDLPz0Uz91yP"
      },
      "outputs": [],
      "source": [
        "from sklearn.model_selection import train_test_split\n",
        "X_train, X_test, y_train, y_test = train_test_split(features_x,df1['mix_names'],test_size=0.2) "
      ]
    },
    {
      "cell_type": "code",
      "execution_count": null,
      "metadata": {
        "id": "wXYj6DLO-amE"
      },
      "outputs": [],
      "source": [
        "X_train = X_train / 255\n",
        "X_test = X_test / 255"
      ]
    },
    {
      "cell_type": "markdown",
      "source": [
        "Rescaling the images array."
      ],
      "metadata": {
        "id": "OQvacqIoWdgr"
      }
    },
    {
      "cell_type": "code",
      "execution_count": null,
      "metadata": {
        "id": "1P4WYzdK-ji5"
      },
      "outputs": [],
      "source": [
        "X_train = X_train.reshape(2402, 128, 128, 1)\n",
        "X_test = X_test.reshape(601, 128, 128, 1)"
      ]
    },
    {
      "cell_type": "markdown",
      "source": [
        "Reshape the training and testing data into proper format. 1 is the grayscale channel. 2402 is training size. 601 is the testing size."
      ],
      "metadata": {
        "id": "x_SHH_JzWkEd"
      }
    },
    {
      "cell_type": "code",
      "execution_count": null,
      "metadata": {
        "id": "S0GvzUkp-osm"
      },
      "outputs": [],
      "source": [
        "import tensorflow as tf\n",
        "from tensorflow import keras\n",
        "from tensorflow.keras.models import Sequential\n",
        "from tensorflow.keras.layers import Dense,Conv2D,MaxPooling2D\n",
        "from tensorflow.keras.optimizers import RMSprop\n",
        "from tensorflow.keras.optimizers import Adam"
      ]
    },
    {
      "cell_type": "code",
      "execution_count": null,
      "metadata": {
        "id": "0jCdwHhq-vzz"
      },
      "outputs": [],
      "source": [
        "cnn2 = keras.Sequential([\n",
        "    keras.layers.Conv2D(filters=128, kernel_size=(3, 3), activation='relu', padding = 'valid', input_shape=(128, 128, 1)),\n",
        "    keras.layers.MaxPooling2D((2, 2), strides=(2,2)),\n",
        "    \n",
        "    keras.layers.Conv2D(filters=256, kernel_size=(3, 3), activation='relu', padding = 'valid'),\n",
        "    keras.layers.MaxPooling2D((2, 2), strides=(2,2)),\n",
        "    \n",
        "    keras.layers.Flatten(),\n",
        "    keras.layers.Dense(512, activation='relu'),\n",
        "\n",
        "    keras.layers.Dropout(0.6), \n",
        "    keras.layers.Dense(3, activation='softmax')\n",
        "])"
      ]
    },
    {
      "cell_type": "markdown",
      "source": [
        "This is the model. You can change the layers according to your choice. But this gives optimum results"
      ],
      "metadata": {
        "id": "mg8DymnrW64h"
      }
    },
    {
      "cell_type": "code",
      "execution_count": null,
      "metadata": {
        "id": "UVicGq31-9in"
      },
      "outputs": [],
      "source": [
        "cnn2.compile(optimizer=RMSprop(learning_rate = 0.001),\n",
        "            loss='sparse_categorical_crossentropy',\n",
        "            metrics=['accuracy'])"
      ]
    },
    {
      "cell_type": "code",
      "execution_count": null,
      "metadata": {
        "colab": {
          "base_uri": "https://localhost:8080/"
        },
        "id": "mbjnl7oy_bGd",
        "outputId": "a1ffb5de-b6f7-48ac-fb1b-490955a853e8"
      },
      "outputs": [
        {
          "output_type": "stream",
          "name": "stdout",
          "text": [
            "Epoch 1/10\n",
            "76/76 [==============================] - 17s 104ms/step - loss: 3.6363 - accuracy: 0.5146\n",
            "Epoch 2/10\n",
            "76/76 [==============================] - 8s 101ms/step - loss: 0.7744 - accuracy: 0.6923\n",
            "Epoch 3/10\n",
            "76/76 [==============================] - 8s 101ms/step - loss: 0.6070 - accuracy: 0.7706\n",
            "Epoch 4/10\n",
            "76/76 [==============================] - 8s 101ms/step - loss: 0.4264 - accuracy: 0.8385\n",
            "Epoch 5/10\n",
            "76/76 [==============================] - 8s 102ms/step - loss: 0.3156 - accuracy: 0.8863\n",
            "Epoch 6/10\n",
            "76/76 [==============================] - 8s 102ms/step - loss: 0.2118 - accuracy: 0.9221\n",
            "Epoch 7/10\n",
            "76/76 [==============================] - 8s 102ms/step - loss: 0.1118 - accuracy: 0.9625\n",
            "Epoch 8/10\n",
            "76/76 [==============================] - 8s 101ms/step - loss: 0.1012 - accuracy: 0.9663\n",
            "Epoch 9/10\n",
            "76/76 [==============================] - 8s 101ms/step - loss: 0.0923 - accuracy: 0.9725\n",
            "Epoch 10/10\n",
            "76/76 [==============================] - 8s 102ms/step - loss: 0.1029 - accuracy: 0.9721\n"
          ]
        },
        {
          "output_type": "execute_result",
          "data": {
            "text/plain": [
              "<keras.callbacks.History at 0x7f9e1049a390>"
            ]
          },
          "metadata": {},
          "execution_count": 29
        }
      ],
      "source": [
        "cnn2.fit(X_train, y_train, epochs=10)"
      ]
    },
    {
      "cell_type": "code",
      "source": [
        "# cnn2.fit(X_train, y_train, epochs=10) #Adam"
      ],
      "metadata": {
        "colab": {
          "base_uri": "https://localhost:8080/"
        },
        "id": "xc6TSrYwdKPe",
        "outputId": "7974ded1-3c88-4f3f-9499-604255a81ba5"
      },
      "execution_count": null,
      "outputs": [
        {
          "output_type": "stream",
          "name": "stdout",
          "text": [
            "Epoch 1/10\n",
            "76/76 [==============================] - 15s 81ms/step - loss: 0.9861 - accuracy: 0.5908\n",
            "Epoch 2/10\n",
            "76/76 [==============================] - 6s 79ms/step - loss: 0.5840 - accuracy: 0.7673\n",
            "Epoch 3/10\n",
            "76/76 [==============================] - 6s 79ms/step - loss: 0.3851 - accuracy: 0.8580\n",
            "Epoch 4/10\n",
            "76/76 [==============================] - 6s 79ms/step - loss: 0.2606 - accuracy: 0.9080\n",
            "Epoch 5/10\n",
            "76/76 [==============================] - 6s 79ms/step - loss: 0.1414 - accuracy: 0.9542\n",
            "Epoch 6/10\n",
            "76/76 [==============================] - 6s 79ms/step - loss: 0.0792 - accuracy: 0.9729\n",
            "Epoch 7/10\n",
            "76/76 [==============================] - 6s 79ms/step - loss: 0.0351 - accuracy: 0.9908\n",
            "Epoch 8/10\n",
            "76/76 [==============================] - 6s 79ms/step - loss: 0.0267 - accuracy: 0.9933\n",
            "Epoch 9/10\n",
            "76/76 [==============================] - 6s 79ms/step - loss: 0.0343 - accuracy: 0.9908\n",
            "Epoch 10/10\n",
            "76/76 [==============================] - 6s 79ms/step - loss: 0.0519 - accuracy: 0.9825\n"
          ]
        },
        {
          "output_type": "execute_result",
          "data": {
            "text/plain": [
              "<keras.callbacks.History at 0x7f9ff0029a10>"
            ]
          },
          "metadata": {},
          "execution_count": 25
        }
      ]
    },
    {
      "cell_type": "code",
      "execution_count": null,
      "metadata": {
        "colab": {
          "base_uri": "https://localhost:8080/"
        },
        "id": "jPmGjVo1_nU6",
        "outputId": "466cd93c-2e33-4a3a-fae5-7b5b275fe112"
      },
      "outputs": [
        {
          "output_type": "stream",
          "name": "stdout",
          "text": [
            "19/19 [==============================] - 1s 43ms/step - loss: 1.0834 - accuracy: 0.7737\n"
          ]
        },
        {
          "output_type": "execute_result",
          "data": {
            "text/plain": [
              "[1.0833853483200073, 0.7737104892730713]"
            ]
          },
          "metadata": {},
          "execution_count": 30
        }
      ],
      "source": [
        "cnn2.evaluate(X_test,y_test) #RMSProp"
      ]
    },
    {
      "cell_type": "code",
      "source": [
        "# cnn2.evaluate(X_test,y_test) #Adam"
      ],
      "metadata": {
        "colab": {
          "base_uri": "https://localhost:8080/"
        },
        "id": "vRsT1DALewz9",
        "outputId": "16a76aa4-89b9-4db7-ebc5-cbebbe763798"
      },
      "execution_count": null,
      "outputs": [
        {
          "output_type": "stream",
          "name": "stdout",
          "text": [
            "19/19 [==============================] - 1s 42ms/step - loss: 0.8291 - accuracy: 0.8170\n"
          ]
        },
        {
          "output_type": "execute_result",
          "data": {
            "text/plain": [
              "[0.8291391134262085, 0.8169717192649841]"
            ]
          },
          "metadata": {},
          "execution_count": 26
        }
      ]
    },
    {
      "cell_type": "markdown",
      "source": [
        "Output using Adam optimizer. Always good to try variations."
      ],
      "metadata": {
        "id": "vP9HcipVYlQp"
      }
    },
    {
      "cell_type": "code",
      "execution_count": null,
      "metadata": {
        "colab": {
          "base_uri": "https://localhost:8080/"
        },
        "id": "LeOjbDfxIYrY",
        "outputId": "a1497f4c-4808-4160-eb1f-ec5950df5a8e"
      },
      "outputs": [
        {
          "data": {
            "text/plain": [
              "(601, 128, 128, 1)"
            ]
          },
          "execution_count": 26,
          "metadata": {},
          "output_type": "execute_result"
        }
      ],
      "source": [
        "X_test.shape"
      ]
    },
    {
      "cell_type": "code",
      "source": [
        "# cnn2.predict(X_test[398].reshape(1,128,128, 1)) #Adam"
      ],
      "metadata": {
        "id": "ALJd4tdCf5_9"
      },
      "execution_count": null,
      "outputs": []
    },
    {
      "cell_type": "code",
      "source": [
        "#import matplotlib.pyplot as plt               #Adam\n",
        "#plt.figure(figsize=(10,10))\n",
        "#plt.imshow(X_test[398].reshape(128,128))"
      ],
      "metadata": {
        "id": "qUo31DZ7f_MS"
      },
      "execution_count": null,
      "outputs": []
    },
    {
      "cell_type": "code",
      "execution_count": null,
      "metadata": {
        "colab": {
          "base_uri": "https://localhost:8080/"
        },
        "id": "UjU2BCSbIrdo",
        "outputId": "73a6e590-b520-40f9-864c-8fb54b8652e2"
      },
      "outputs": [
        {
          "output_type": "stream",
          "name": "stdout",
          "text": [
            "1/1 [==============================] - 0s 24ms/step\n"
          ]
        },
        {
          "output_type": "execute_result",
          "data": {
            "text/plain": [
              "array([[0.0018981 , 0.20728892, 0.79081297]], dtype=float32)"
            ]
          },
          "metadata": {},
          "execution_count": 35
        }
      ],
      "source": [
        "cnn2.predict(X_test[420].reshape(1,128,128, 1))    #RMSProp"
      ]
    },
    {
      "cell_type": "markdown",
      "source": [
        "Here, 2 is for pizza and we have the array showing highest value for '2'."
      ],
      "metadata": {
        "id": "Dry8juQNXUl0"
      }
    },
    {
      "cell_type": "code",
      "execution_count": null,
      "metadata": {
        "colab": {
          "base_uri": "https://localhost:8080/",
          "height": 610
        },
        "id": "wNscn5q9Izzw",
        "outputId": "d5057d16-f88a-4a22-ed19-31b809c6cc35"
      },
      "outputs": [
        {
          "output_type": "execute_result",
          "data": {
            "text/plain": [
              "<matplotlib.image.AxesImage at 0x7f9e1018af50>"
            ]
          },
          "metadata": {},
          "execution_count": 34
        },
        {
          "output_type": "display_data",
          "data": {
            "text/plain": [
              "<Figure size 720x720 with 1 Axes>"
            ],
            "image/png": "[encoded data removed]"
          },
          "metadata": {
            "needs_background": "light"
          }
        }
      ],
      "source": [
        "import matplotlib.pyplot as plt         #RMSProp\n",
        "plt.figure(figsize=(10,10))\n",
        "plt.imshow(X_test[420].reshape(128,128))"
      ]
    },
    {
      "cell_type": "markdown",
      "source": [
        "We can see the pizza in the image."
      ],
      "metadata": {
        "id": "EGe_l2AiXh4i"
      }
    },
    {
      "cell_type": "markdown",
      "source": [
        "Thank You!!"
      ],
      "metadata": {
        "id": "lc8xdH6vXlSt"
      }
    }
  ],
  "metadata": {
    "accelerator": "GPU",
    "colab": {
      "provenance": []
    },
    "kernelspec": {
      "display_name": "Python 3",
      "name": "python3"
    },
    "language_info": {
      "name": "python"
    },
    "gpuClass": "standard"
  },
  "nbformat": 4,
  "nbformat_minor": 0
}